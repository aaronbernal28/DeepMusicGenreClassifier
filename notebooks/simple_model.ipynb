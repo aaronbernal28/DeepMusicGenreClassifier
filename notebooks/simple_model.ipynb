{
 "cells": [
  {
   "cell_type": "code",
   "execution_count": 2,
   "id": "455cd61a",
   "metadata": {},
   "outputs": [
    {
     "name": "stdout",
     "output_type": "stream",
     "text": [
      "Usando dispositivo: cuda\n"
     ]
    }
   ],
   "source": [
    "import torch\n",
    "import torch.nn as nn\n",
    "import torch.nn.functional as F\n",
    "from torch.utils.data import Dataset, DataLoader\n",
    "import numpy as np\n",
    "import matplotlib.pyplot as plt\n",
    "import soundfile as sf\n",
    "from setup import train, device"
   ]
  },
  {
   "cell_type": "code",
   "execution_count": 52,
   "id": "f5b14e6b",
   "metadata": {},
   "outputs": [],
   "source": [
    "MAX_LEN = 660000//12\n",
    "SR = 22050\n",
    "T0 = MAX_LEN/22050\n",
    "\n",
    "X = []\n",
    "y = []\n",
    "genres = ['blues', 'classical', 'country', 'disco', 'hiphop', 'jazz', 'metal', 'pop', 'reggae', 'rock']\n",
    "for id, genre in enumerate(genres):\n",
    "    for i in range(100):\n",
    "        if not (i == 54 and genre == 'jazz'):\n",
    "            x, _ = sf.read(f'../Data/genres_original/{genre}/{genre}.000{i:02}.wav')\n",
    "            X.append(x[2*MAX_LEN:3*MAX_LEN])\n",
    "            y.append(id)"
   ]
  },
  {
   "cell_type": "code",
   "execution_count": 3,
   "id": "1bdacf15",
   "metadata": {},
   "outputs": [
    {
     "name": "stdout",
     "output_type": "stream",
     "text": [
      "Entrenamiento: 799 pares\n",
      "Validación: 200 pares\n"
     ]
    }
   ],
   "source": [
    "from sklearn.model_selection import train_test_split\n",
    "\n",
    "X_train, X_test, y_train, y_test = train_test_split(\n",
    "    X, y, test_size=0.2, random_state=28, stratify=y\n",
    ")\n",
    "del X\n",
    "\n",
    "print(f\"Entrenamiento: {len(X_train)} pares\")\n",
    "print(f\"Validación: {len(X_test)} pares\")"
   ]
  },
  {
   "cell_type": "code",
   "execution_count": 4,
   "id": "80d55762",
   "metadata": {},
   "outputs": [
    {
     "data": {
      "text/plain": [
       "tensor([0, 0, 0, 1, 0, 0, 0, 0, 0, 0])"
      ]
     },
     "execution_count": 4,
     "metadata": {},
     "output_type": "execute_result"
    }
   ],
   "source": [
    "F.one_hot(torch.tensor(3), 10)"
   ]
  },
  {
   "cell_type": "code",
   "execution_count": 9,
   "id": "6121909e",
   "metadata": {},
   "outputs": [],
   "source": [
    "class audiodataset(Dataset):\n",
    "    def __init__(self, X, y):\n",
    "        self.pairs = list(zip(X, y))\n",
    "    \n",
    "    def __len__(self):\n",
    "        return len(self.pairs)\n",
    "    \n",
    "    def __getitem__(self, idx):\n",
    "        xs, ys = self.pairs[idx]\n",
    "\n",
    "        return {\n",
    "            'input': torch.tensor(xs).to(device, dtype=torch.float32),\n",
    "            'target': F.one_hot(torch.tensor(ys), 10).to(device=device, dtype=torch.float32),\n",
    "            'input_length': len(xs),\n",
    "            'target_length': 10\n",
    "        }"
   ]
  },
  {
   "cell_type": "code",
   "execution_count": null,
   "id": "913a08c3",
   "metadata": {},
   "outputs": [
    {
     "data": {
      "text/plain": [
       "{'input': tensor([-0.5208, -0.3644, -0.1389,  ..., -0.0775, -0.0639,  0.0011],\n",
       "        device='cuda:0', dtype=torch.float64),\n",
       " 'target': tensor([0., 0., 0., 0., 0., 0., 0., 0., 0., 1.], device='cuda:0',\n",
       "        dtype=torch.float64),\n",
       " 'input_length': 55000,\n",
       " 'target_length': 10}"
      ]
     },
     "execution_count": 6,
     "metadata": {},
     "output_type": "execute_result"
    }
   ],
   "source": [
    "train_dataset = audiodataset(X_train, y_train)\n",
    "test_dataset = audiodataset(X_test, y_test)\n",
    "\n",
    "train_dataset[2]"
   ]
  },
  {
   "cell_type": "markdown",
   "id": "48bee76e",
   "metadata": {},
   "source": [
    "### Modelo naive"
   ]
  },
  {
   "cell_type": "code",
   "execution_count": 46,
   "id": "ef4ea387",
   "metadata": {},
   "outputs": [],
   "source": [
    "class modelo1(nn.Module):\n",
    "    def __init__(self, input_size, p_drop = 0.5):\n",
    "        super().__init__()\n",
    "        self.capa1 = nn.Linear(input_size, 100, dtype=torch.float64)\n",
    "        self.dropout = nn.Dropout(p=p_drop)\n",
    "        self.capa2 = nn.Linear(100, 50, dtype=torch.float64)\n",
    "        self.capa3 = nn.Linear(50, 10, dtype=torch.float64)\n",
    "        self.relu = torch.relu\n",
    "\n",
    "    def forward(self, input):\n",
    "        out = self.relu(self.capa1(input))\n",
    "        out = self.dropout(out)\n",
    "        out = self.relu(self.capa2(out))\n",
    "        out = self.capa3(out)\n",
    "        return out.to(device)"
   ]
  },
  {
   "cell_type": "code",
   "execution_count": 47,
   "id": "379ef325",
   "metadata": {},
   "outputs": [
    {
     "name": "stdout",
     "output_type": "stream",
     "text": [
      "Modelo creado con 5505660 parámetros\n"
     ]
    }
   ],
   "source": [
    "# hiperparametros\n",
    "INPUT_DIM = train_dataset[0]['input_length']\n",
    "NUM_EPOCHS = 40\n",
    "LEARNING_RATE = 0.001\n",
    "P = 0.95\n",
    "\n",
    "model = modelo1(INPUT_DIM, p_drop=P).to(device)\n",
    "\n",
    "criterion = nn.CrossEntropyLoss()\n",
    "optimizer = torch.optim.Adam(model.parameters(), lr=LEARNING_RATE)\n",
    "print(f\"Modelo creado con {sum(p.numel() for p in model.parameters())} parámetros\")"
   ]
  },
  {
   "cell_type": "code",
   "execution_count": 48,
   "id": "d3bd453c",
   "metadata": {},
   "outputs": [
    {
     "name": "stdout",
     "output_type": "stream",
     "text": [
      "Iniciando entrenamiento...\n",
      "--------------------------------------------------\n",
      "Época 5/40\n",
      "  Pérdida Entrenamiento: 2.7316\n",
      "  Pérdida Validación: 2.2608\n",
      "  Empeorando\n",
      "Época 10/40\n",
      "  Pérdida Entrenamiento: 2.6103\n",
      "  Pérdida Validación: 2.2757\n",
      "  Empeorando\n",
      "Época 15/40\n",
      "  Pérdida Entrenamiento: 2.4668\n",
      "  Pérdida Validación: 2.2946\n",
      "  Empeorando\n",
      "Época 20/40\n",
      "  Pérdida Entrenamiento: 2.3541\n",
      "  Pérdida Validación: 2.2907\n",
      "  Empeorando\n",
      "Época 25/40\n",
      "  Pérdida Entrenamiento: 2.3390\n",
      "  Pérdida Validación: 2.3038\n",
      "  Empeorando\n",
      "Época 30/40\n",
      "  Pérdida Entrenamiento: 2.2564\n",
      "  Pérdida Validación: 2.3023\n",
      "  Empeorando\n",
      "Época 35/40\n",
      "  Pérdida Entrenamiento: 2.2124\n",
      "  Pérdida Validación: 2.3114\n",
      "  Empeorando\n",
      "Época 40/40\n",
      "  Pérdida Entrenamiento: 2.2665\n",
      "  Pérdida Validación: 2.3025\n",
      "  Empeorando\n",
      "Entrenamiento completado!\n"
     ]
    }
   ],
   "source": [
    "BATCH_SIZE = 8\n",
    "\n",
    "train_dataloader = DataLoader(train_dataset, batch_size=BATCH_SIZE)\n",
    "val_dataloader = DataLoader(test_dataset, batch_size=BATCH_SIZE)\n",
    "\n",
    "train_losses, val_losses = train(model, train_dataloader, val_dataloader, optimizer, criterion, NUM_EPOCHS)"
   ]
  },
  {
   "cell_type": "code",
   "execution_count": 49,
   "id": "db4d6df4",
   "metadata": {},
   "outputs": [
    {
     "data": {
      "image/png": "[encoded data removed]",
      "text/plain": [
       "<Figure size 640x480 with 1 Axes>"
      ]
     },
     "metadata": {},
     "output_type": "display_data"
    }
   ],
   "source": [
    "plt.plot(train_losses, label='Train Loss')\n",
    "plt.plot(val_losses, label='Validation Loss')\n",
    "plt.xlabel('Epoch')\n",
    "plt.ylabel('Loss')\n",
    "plt.title('Train and Validation Losses')\n",
    "plt.legend()\n",
    "plt.grid(True)\n",
    "plt.show()"
   ]
  },
  {
   "cell_type": "code",
   "execution_count": 51,
   "id": "30bc53b9",
   "metadata": {},
   "outputs": [
    {
     "name": "stdout",
     "output_type": "stream",
     "text": [
      "Accuracy con los datos de test 0.1050\n"
     ]
    }
   ],
   "source": [
    "model.eval()\n",
    "accur = 0\n",
    "with torch.no_grad():\n",
    "    for item in test_dataset:\n",
    "        input = item['input']\n",
    "        target = item['target']\n",
    "\n",
    "        output = model.forward(input)\n",
    "        pred = F.one_hot(torch.argmax(output), 10)\n",
    "\n",
    "        accur += int(sum(target == pred) == 10)\n",
    "\n",
    "accur /= len(test_dataset)\n",
    "print(f'Accuracy con los datos de test {accur:.4f}')"
   ]
  },
  {
   "cell_type": "markdown",
   "id": "4a575d95",
   "metadata": {},
   "source": [
    "Con fourier"
   ]
  },
  {
   "cell_type": "code",
   "execution_count": 116,
   "id": "13f0f338",
   "metadata": {},
   "outputs": [],
   "source": [
    "X_freq = []\n",
    "y = []\n",
    "genres = ['blues', 'classical', 'country', 'disco', 'hiphop', 'jazz', 'metal', 'pop', 'reggae', 'rock']\n",
    "for id, genre in enumerate(genres):\n",
    "    for i in range(100):\n",
    "        if not (i == 54 and genre == 'jazz'):\n",
    "            x, _ = sf.read(f'../Data/genres_original/{genre}/{genre}.000{i:02}.wav')\n",
    "            x_f = np.fft.rfft(x, n = 1024*4)\n",
    "            X_freq.append(np.abs(x_f))\n",
    "            y.append(id)"
   ]
  },
  {
   "cell_type": "code",
   "execution_count": 117,
   "id": "4d945691",
   "metadata": {},
   "outputs": [
    {
     "name": "stdout",
     "output_type": "stream",
     "text": [
      "Entrenamiento: 799 pares\n",
      "Validación: 200 pares\n"
     ]
    }
   ],
   "source": [
    "from sklearn.model_selection import train_test_split\n",
    "\n",
    "X_train, X_test, y_train, y_test = train_test_split(\n",
    "    X_freq, y, test_size=0.2, random_state=28, stratify=y\n",
    ")\n",
    "\n",
    "print(f\"Entrenamiento: {len(X_train)} pares\")\n",
    "print(f\"Validación: {len(X_test)} pares\")\n",
    "\n",
    "train_dataset = audiodataset(X_train, y_train)\n",
    "test_dataset = audiodataset(X_test, y_test)"
   ]
  },
  {
   "cell_type": "code",
   "execution_count": 118,
   "id": "f6c7a85e",
   "metadata": {},
   "outputs": [
    {
     "data": {
      "text/plain": [
       "{'input': tensor([4.6283e+00, 4.0235e+00, 2.6956e+00,  ..., 4.2314e-03, 3.6122e-03,\n",
       "         2.3499e-03], device='cuda:0'),\n",
       " 'target': tensor([0., 0., 0., 0., 1., 0., 0., 0., 0., 0.], device='cuda:0'),\n",
       " 'input_length': 2049,\n",
       " 'target_length': 10}"
      ]
     },
     "execution_count": 118,
     "metadata": {},
     "output_type": "execute_result"
    }
   ],
   "source": [
    "train_dataset[0]"
   ]
  },
  {
   "cell_type": "code",
   "execution_count": 107,
   "id": "dca614d0",
   "metadata": {},
   "outputs": [],
   "source": [
    "class modelo1(nn.Module):\n",
    "    def __init__(self, input_size, d, p_drop = 0.5):\n",
    "        super().__init__()\n",
    "        self.capa1 = nn.Linear(input_size, d[0])\n",
    "        self.bn1 = nn.BatchNorm1d(d[0])\n",
    "        self.capa2 = nn.Linear(d[0], d[1])\n",
    "        self.bn2 = nn.BatchNorm1d(d[1])\n",
    "        self.capa3 = nn.Linear(d[1], d[2])\n",
    "        self.bn3 = nn.BatchNorm1d(d[2])\n",
    "        self.capa4 = nn.Linear(d[2], d[3])\n",
    "        self.bn4 = nn.BatchNorm1d(d[3])\n",
    "        self.capa5 = nn.Linear(d[3], 10)\n",
    "        self.dropout = nn.Dropout(p=p_drop)\n",
    "        self.gelu = nn.GELU()\n",
    "\n",
    "    def forward(self, input):\n",
    "        out = self.capa1(input)\n",
    "        out = self.bn1(out)\n",
    "        out = self.gelu(out)\n",
    "        out = self.dropout(out)\n",
    "        \n",
    "        out = self.capa2(out)\n",
    "        out = self.bn2(out)\n",
    "        out = self.gelu(out)\n",
    "        out = self.dropout(out)\n",
    "\n",
    "        out = self.capa3(out)\n",
    "        out = self.bn3(out)\n",
    "        out = self.gelu(out)\n",
    "        out = self.dropout(out)\n",
    "\n",
    "        out = self.capa4(out)\n",
    "        out = self.bn4(out)\n",
    "        out = self.gelu(out)\n",
    "        out = self.dropout(out)\n",
    "\n",
    "        return self.capa5(out)"
   ]
  },
  {
   "cell_type": "code",
   "execution_count": 119,
   "id": "0d6d1cb5",
   "metadata": {},
   "outputs": [],
   "source": [
    "class modelo2(nn.Module):\n",
    "    def __init__(self, input_size, hidden_dims, output_size=10, p_drop=0.5):\n",
    "        super().__init__()\n",
    "        \n",
    "        layers = []\n",
    "        in_dim = input_size\n",
    "        \n",
    "        for out_dim in hidden_dims:\n",
    "            layers.append(nn.Linear(in_dim, out_dim))\n",
    "            layers.append(nn.BatchNorm1d(out_dim))\n",
    "            layers.append(nn.GELU())\n",
    "            layers.append(nn.Dropout(p=p_drop))\n",
    "            in_dim = out_dim\n",
    "\n",
    "        self.hidden_layers = nn.Sequential(*layers)\n",
    "        self.output_layer = nn.Linear(in_dim, output_size)\n",
    "\n",
    "    def forward(self, input):\n",
    "        out = self.hidden_layers(input)\n",
    "        return self.output_layer(out)"
   ]
  },
  {
   "cell_type": "code",
   "execution_count": 120,
   "id": "f640548c",
   "metadata": {},
   "outputs": [
    {
     "name": "stdout",
     "output_type": "stream",
     "text": [
      "Modelo creado con 2801098 parámetros\n",
      "Iniciando entrenamiento...\n",
      "--------------------------------------------------\n",
      "Época 5/200\n",
      "  Pérdida Entrenamiento: 2.3781\n",
      "  Pérdida Validación: 2.2667\n",
      "  Mejorando\n",
      "Época 10/200\n",
      "  Pérdida Entrenamiento: 2.3342\n",
      "  Pérdida Validación: 2.2333\n",
      "  Mejorando\n",
      "Época 15/200\n",
      "  Pérdida Entrenamiento: 2.3258\n",
      "  Pérdida Validación: 2.2033\n",
      "  Mejorando\n",
      "Época 20/200\n",
      "  Pérdida Entrenamiento: 2.2531\n",
      "  Pérdida Validación: 2.1714\n",
      "  Empeorando\n",
      "Época 25/200\n",
      "  Pérdida Entrenamiento: 2.2301\n",
      "  Pérdida Validación: 2.1244\n",
      "  Mejorando\n",
      "Época 30/200\n",
      "  Pérdida Entrenamiento: 2.1993\n",
      "  Pérdida Validación: 2.0735\n",
      "  Mejorando\n",
      "Época 35/200\n",
      "  Pérdida Entrenamiento: 2.1601\n",
      "  Pérdida Validación: 2.0178\n",
      "  Mejorando\n",
      "Época 40/200\n",
      "  Pérdida Entrenamiento: 2.1073\n",
      "  Pérdida Validación: 1.9768\n",
      "  Mejorando\n",
      "Época 45/200\n",
      "  Pérdida Entrenamiento: 2.0941\n",
      "  Pérdida Validación: 1.9290\n",
      "  Mejorando\n",
      "Época 50/200\n",
      "  Pérdida Entrenamiento: 2.0130\n",
      "  Pérdida Validación: 1.8883\n",
      "  Mejorando\n",
      "Época 55/200\n",
      "  Pérdida Entrenamiento: 1.9655\n",
      "  Pérdida Validación: 1.8568\n",
      "  Empeorando\n",
      "Época 60/200\n",
      "  Pérdida Entrenamiento: 1.9304\n",
      "  Pérdida Validación: 1.8194\n",
      "  Mejorando\n",
      "Época 65/200\n",
      "  Pérdida Entrenamiento: 1.8676\n",
      "  Pérdida Validación: 1.7785\n",
      "  Mejorando\n",
      "Época 70/200\n",
      "  Pérdida Entrenamiento: 1.7835\n",
      "  Pérdida Validación: 1.7518\n",
      "  Empeorando\n",
      "Época 75/200\n",
      "  Pérdida Entrenamiento: 1.7797\n",
      "  Pérdida Validación: 1.7121\n",
      "  Mejorando\n",
      "Época 80/200\n",
      "  Pérdida Entrenamiento: 1.6628\n",
      "  Pérdida Validación: 1.7107\n",
      "  Empeorando\n",
      "Época 85/200\n",
      "  Pérdida Entrenamiento: 1.5889\n",
      "  Pérdida Validación: 1.7033\n",
      "  Empeorando\n",
      "Época 90/200\n",
      "  Pérdida Entrenamiento: 1.5579\n",
      "  Pérdida Validación: 1.6637\n",
      "  Empeorando\n",
      "Época 95/200\n",
      "  Pérdida Entrenamiento: 1.5104\n",
      "  Pérdida Validación: 1.6833\n",
      "  Empeorando\n",
      "Época 100/200\n",
      "  Pérdida Entrenamiento: 1.3931\n",
      "  Pérdida Validación: 1.6491\n",
      "  Empeorando\n",
      "Época 105/200\n",
      "  Pérdida Entrenamiento: 1.3542\n",
      "  Pérdida Validación: 1.6205\n",
      "  Empeorando\n",
      "Época 110/200\n",
      "  Pérdida Entrenamiento: 1.3153\n",
      "  Pérdida Validación: 1.6440\n",
      "  Empeorando\n",
      "Época 115/200\n",
      "  Pérdida Entrenamiento: 1.2501\n",
      "  Pérdida Validación: 1.6528\n",
      "  Empeorando\n",
      "Época 120/200\n",
      "  Pérdida Entrenamiento: 1.1763\n",
      "  Pérdida Validación: 1.6369\n",
      "  Empeorando\n",
      "Época 125/200\n",
      "  Pérdida Entrenamiento: 1.1457\n",
      "  Pérdida Validación: 1.6723\n",
      "  Empeorando\n",
      "Época 130/200\n",
      "  Pérdida Entrenamiento: 1.0746\n",
      "  Pérdida Validación: 1.6336\n",
      "  Empeorando\n",
      "Época 135/200\n",
      "  Pérdida Entrenamiento: 1.0060\n",
      "  Pérdida Validación: 1.6787\n",
      "  Empeorando\n",
      "Época 140/200\n",
      "  Pérdida Entrenamiento: 0.9868\n",
      "  Pérdida Validación: 1.6855\n",
      "  Empeorando\n",
      "Época 145/200\n",
      "  Pérdida Entrenamiento: 0.8934\n",
      "  Pérdida Validación: 1.6511\n",
      "  Empeorando\n",
      "Época 150/200\n",
      "  Pérdida Entrenamiento: 0.8984\n",
      "  Pérdida Validación: 1.7124\n",
      "  Empeorando\n",
      "Época 155/200\n",
      "  Pérdida Entrenamiento: 0.8437\n",
      "  Pérdida Validación: 1.7033\n",
      "  Empeorando\n",
      "Época 160/200\n",
      "  Pérdida Entrenamiento: 0.7831\n",
      "  Pérdida Validación: 1.7331\n",
      "  Empeorando\n",
      "Época 165/200\n",
      "  Pérdida Entrenamiento: 0.7707\n",
      "  Pérdida Validación: 1.7310\n",
      "  Empeorando\n",
      "Época 170/200\n",
      "  Pérdida Entrenamiento: 0.7197\n",
      "  Pérdida Validación: 1.7365\n",
      "  Empeorando\n",
      "Época 175/200\n",
      "  Pérdida Entrenamiento: 0.6905\n",
      "  Pérdida Validación: 1.7580\n",
      "  Empeorando\n",
      "Época 180/200\n",
      "  Pérdida Entrenamiento: 0.6744\n",
      "  Pérdida Validación: 1.7786\n",
      "  Empeorando\n",
      "Época 185/200\n",
      "  Pérdida Entrenamiento: 0.6093\n",
      "  Pérdida Validación: 1.8410\n",
      "  Empeorando\n",
      "Época 190/200\n",
      "  Pérdida Entrenamiento: 0.6011\n",
      "  Pérdida Validación: 1.8418\n",
      "  Empeorando\n",
      "Época 195/200\n",
      "  Pérdida Entrenamiento: 0.5799\n",
      "  Pérdida Validación: 1.8396\n",
      "  Empeorando\n",
      "Época 200/200\n",
      "  Pérdida Entrenamiento: 0.5311\n",
      "  Pérdida Validación: 1.8480\n",
      "  Empeorando\n",
      "Entrenamiento completado!\n"
     ]
    }
   ],
   "source": [
    "# hiperparametros\n",
    "INPUT_DIM = train_dataset[0]['input_length']\n",
    "NUM_EPOCHS = 200\n",
    "LEARNING_RATE = 0.0001\n",
    "P = 0.6\n",
    "D = [1024, 512, 256, 128, 64]\n",
    "\n",
    "model = modelo2(INPUT_DIM, hidden_dims=D, p_drop=P).to(device)\n",
    "\n",
    "criterion = nn.CrossEntropyLoss()\n",
    "optimizer = torch.optim.AdamW(model.parameters(), lr=LEARNING_RATE)\n",
    "print(f\"Modelo creado con {sum(p.numel() for p in model.parameters())} parámetros\")\n",
    "\n",
    "BATCH_SIZE = 32\n",
    "\n",
    "train_dataloader = DataLoader(train_dataset, batch_size=BATCH_SIZE)\n",
    "val_dataloader = DataLoader(test_dataset, batch_size=BATCH_SIZE)\n",
    "\n",
    "train_losses, val_losses = train(model, train_dataloader, val_dataloader, optimizer, criterion, NUM_EPOCHS)"
   ]
  },
  {
   "cell_type": "code",
   "execution_count": 121,
   "id": "e5713f17",
   "metadata": {},
   "outputs": [
    {
     "data": {
      "image/png": "[encoded data removed]",
      "text/plain": [
       "<Figure size 640x480 with 1 Axes>"
      ]
     },
     "metadata": {},
     "output_type": "display_data"
    }
   ],
   "source": [
    "plt.plot(train_losses, label='Train Loss')\n",
    "plt.plot(val_losses, label='Validation Loss')\n",
    "plt.xlabel('Epoch')\n",
    "plt.ylabel('Loss')\n",
    "plt.title('Train and Validation Losses')\n",
    "plt.legend()\n",
    "plt.grid(True)\n",
    "plt.show()"
   ]
  },
  {
   "cell_type": "code",
   "execution_count": 122,
   "id": "65de8482",
   "metadata": {},
   "outputs": [
    {
     "name": "stdout",
     "output_type": "stream",
     "text": [
      "Accuracy con los datos de test 0.3800\n"
     ]
    }
   ],
   "source": [
    "model.eval()\n",
    "accur = 0\n",
    "with torch.no_grad():\n",
    "    for item in test_dataset:\n",
    "        input = item['input'].unsqueeze(0)\n",
    "        target = item['target']\n",
    "\n",
    "        output = model.forward(input)\n",
    "        pred = F.one_hot(torch.argmax(output), 10)\n",
    "\n",
    "        accur += int(sum(target == pred) == 10)\n",
    "\n",
    "accur /= len(test_dataset)\n",
    "print(f'Accuracy con los datos de test {accur:.4f}')"
   ]
  }
 ],
 "metadata": {
  "kernelspec": {
   "display_name": "Python 3",
   "language": "python",
   "name": "python3"
  },
  "language_info": {
   "codemirror_mode": {
    "name": "ipython",
    "version": 3
   },
   "file_extension": ".py",
   "mimetype": "text/x-python",
   "name": "python",
   "nbconvert_exporter": "python",
   "pygments_lexer": "ipython3",
   "version": "3.12.2"
  }
 },
 "nbformat": 4,
 "nbformat_minor": 5
}
