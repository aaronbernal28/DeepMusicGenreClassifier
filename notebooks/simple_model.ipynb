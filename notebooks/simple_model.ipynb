{
 "cells": [
  {
   "cell_type": "code",
   "execution_count": 1,
   "id": "455cd61a",
   "metadata": {},
   "outputs": [
    {
     "name": "stdout",
     "output_type": "stream",
     "text": [
      "Usando dispositivo: cuda\n"
     ]
    }
   ],
   "source": [
    "import torch\n",
    "import torch.nn as nn\n",
    "import torch.optim as optim\n",
    "import torch.nn.functional as F\n",
    "from torch.utils.data import Dataset, DataLoader\n",
    "import random\n",
    "import numpy as np\n",
    "from collections import Counter\n",
    "import matplotlib.pyplot as plt\n",
    "import soundfile as sf\n",
    "\n",
    "# Configuración del dispositivo\n",
    "device = torch.device('cuda' if torch.cuda.is_available() else 'cpu')\n",
    "print(f\"Usando dispositivo: {device}\")\n",
    "torch.cuda.set_per_process_memory_fraction(0.5)"
   ]
  },
  {
   "cell_type": "code",
   "execution_count": 2,
   "id": "f5b14e6b",
   "metadata": {},
   "outputs": [],
   "source": [
    "MAX_LEN = 660000//6\n",
    "SR = 22050\n",
    "T0 = MAX_LEN/22050\n",
    "\n",
    "X = []\n",
    "y = []\n",
    "genres = ['blues', 'classical', 'country', 'disco', 'hiphop', 'jazz', 'metal', 'pop', 'reggae', 'rock']\n",
    "for id, genre in enumerate(genres):\n",
    "    for i in range(100):\n",
    "        if not (i == 54 and genre == 'jazz'):\n",
    "            x, _ = sf.read(f'../Data/genres_original/{genre}/{genre}.000{i:02}.wav')\n",
    "            X.append(x[MAX_LEN:2*MAX_LEN])\n",
    "            y.append(id)"
   ]
  },
  {
   "cell_type": "code",
   "execution_count": 3,
   "id": "1bdacf15",
   "metadata": {},
   "outputs": [
    {
     "name": "stdout",
     "output_type": "stream",
     "text": [
      "Entrenamiento: 799 pares\n",
      "Validación: 200 pares\n"
     ]
    }
   ],
   "source": [
    "from sklearn.model_selection import train_test_split\n",
    "\n",
    "X_train, X_test, y_train, y_test = train_test_split(\n",
    "    X, y, test_size=0.2, random_state=28, stratify=y\n",
    ")\n",
    "del X\n",
    "\n",
    "print(f\"Entrenamiento: {len(X_train)} pares\")\n",
    "print(f\"Validación: {len(X_test)} pares\")"
   ]
  },
  {
   "cell_type": "code",
   "execution_count": 4,
   "id": "80d55762",
   "metadata": {},
   "outputs": [
    {
     "data": {
      "text/plain": [
       "tensor([0, 0, 0, 1, 0, 0, 0, 0, 0, 0])"
      ]
     },
     "execution_count": 4,
     "metadata": {},
     "output_type": "execute_result"
    }
   ],
   "source": [
    "F.one_hot(torch.tensor(3), 10)"
   ]
  },
  {
   "cell_type": "code",
   "execution_count": 5,
   "id": "dd5d3403",
   "metadata": {},
   "outputs": [],
   "source": [
    "class audiodataset(Dataset):\n",
    "    def __init__(self, X, y):\n",
    "        self.pairs = list(zip(X, y))\n",
    "    \n",
    "    def __len__(self):\n",
    "        return len(self.pairs)\n",
    "    \n",
    "    def __getitem__(self, idx):\n",
    "        xs, ys = self.pairs[idx]\n",
    "\n",
    "        return {\n",
    "            'input': torch.tensor(xs).to(device),\n",
    "            'target': F.one_hot(torch.tensor(ys), 10).to(device=device, dtype=torch.float64),\n",
    "            'input_length': len(xs),\n",
    "            'target_length': 10\n",
    "        }\n",
    "\n",
    "train_dataset = audiodataset(X_train, y_train)\n",
    "test_dataset = audiodataset(X_test, y_test)"
   ]
  },
  {
   "cell_type": "code",
   "execution_count": 6,
   "id": "913a08c3",
   "metadata": {},
   "outputs": [
    {
     "data": {
      "text/plain": [
       "{'input': tensor([-0.5208, -0.3644, -0.1389,  ...,  0.0835,  0.0625,  0.0831],\n",
       "        device='cuda:0', dtype=torch.float64),\n",
       " 'target': tensor([0., 0., 0., 0., 0., 0., 0., 0., 0., 1.], device='cuda:0',\n",
       "        dtype=torch.float64),\n",
       " 'input_length': 110000,\n",
       " 'target_length': 10}"
      ]
     },
     "execution_count": 6,
     "metadata": {},
     "output_type": "execute_result"
    }
   ],
   "source": [
    "train_dataset[2]"
   ]
  },
  {
   "cell_type": "markdown",
   "id": "48bee76e",
   "metadata": {},
   "source": [
    "### Modelo naive"
   ]
  },
  {
   "cell_type": "code",
   "execution_count": 7,
   "id": "ef4ea387",
   "metadata": {},
   "outputs": [],
   "source": [
    "class modelo1(nn.Module):\n",
    "    def __init__(self, input_size):\n",
    "        super().__init__()\n",
    "        self.capa1 = nn.Linear(input_size, 200, dtype=torch.float64)\n",
    "        self.capa2 = nn.Linear(200, 50, dtype=torch.float64)\n",
    "        self.capa3 = nn.Linear(50, 10, dtype=torch.float64)\n",
    "        self.tanh = torch.tanh\n",
    "\n",
    "    def forward(self, input):\n",
    "        out = self.tanh(self.capa1(input))\n",
    "        out = self.tanh(self.capa2(out))\n",
    "        out = self.capa3(out)\n",
    "        return out.to(device)"
   ]
  },
  {
   "cell_type": "code",
   "execution_count": 8,
   "id": "379ef325",
   "metadata": {},
   "outputs": [
    {
     "name": "stdout",
     "output_type": "stream",
     "text": [
      "Modelo creado con 22010760 parámetros\n"
     ]
    }
   ],
   "source": [
    "# hiperparametros\n",
    "INPUT_DIM = train_dataset[0]['input_length']\n",
    "NUM_EPOCHS = 20\n",
    "LEARNING_RATE = 0.001\n",
    "\n",
    "model = modelo1(INPUT_DIM).to(device)\n",
    "\n",
    "criterion = nn.CrossEntropyLoss()\n",
    "optimizer = torch.optim.Adam(model.parameters(), lr=LEARNING_RATE)\n",
    "print(f\"Modelo creado con {sum(p.numel() for p in model.parameters())} parámetros\")"
   ]
  },
  {
   "cell_type": "code",
   "execution_count": 9,
   "id": "d3bd453c",
   "metadata": {},
   "outputs": [
    {
     "name": "stdout",
     "output_type": "stream",
     "text": [
      "Iniciando entrenamiento...\n",
      "--------------------------------------------------\n",
      "Época 5/20\n",
      "  Pérdida Entrenamiento: 0.1262\n",
      "  Pérdida Validación: 1.2010\n",
      "  Empeorando\n",
      "Época 10/20\n",
      "  Pérdida Entrenamiento: 0.0005\n",
      "  Pérdida Validación: 1.4706\n",
      "  Empeorando\n",
      "Época 15/20\n",
      "  Pérdida Entrenamiento: 0.0001\n",
      "  Pérdida Validación: 1.6501\n",
      "  Empeorando\n",
      "Época 20/20\n",
      "  Pérdida Entrenamiento: 0.0000\n",
      "  Pérdida Validación: 1.8398\n",
      "  Empeorando\n",
      "Entrenamiento completado!\n"
     ]
    }
   ],
   "source": [
    "train_losses = []\n",
    "val_losses = []\n",
    "\n",
    "print(\"Iniciando entrenamiento...\")\n",
    "print(\"-\" * 50)\n",
    "\n",
    "for epoch in range(NUM_EPOCHS):\n",
    "    # Entrenamiento\n",
    "    model.train()\n",
    "    train_loss = 0\n",
    "    for item in train_dataset:\n",
    "        input = item['input']\n",
    "        target = item['target']\n",
    "\n",
    "        optimizer.zero_grad()\n",
    "\n",
    "        output = model.forward(input)\n",
    "        loss = criterion(output, target)\n",
    "        \n",
    "        loss.backward()\n",
    "\n",
    "        # Gradient clipping para evitar exploding gradients\n",
    "        torch.nn.utils.clip_grad_norm_(model.parameters(), max_norm=1.0)\n",
    "\n",
    "        optimizer.step()\n",
    "        train_loss += loss.item()\n",
    "\n",
    "    train_loss /= len(train_dataset)\n",
    "    train_losses.append(train_loss)\n",
    "\n",
    "    # Validación\n",
    "    model.eval()\n",
    "    val_loss = 0\n",
    "\n",
    "    with torch.no_grad():\n",
    "        for item in test_dataset:\n",
    "            input = item['input']\n",
    "            target = item['target']\n",
    "\n",
    "            output = model.forward(input)\n",
    "            loss = criterion(output, target)\n",
    "            val_loss += loss.item()\n",
    "    val_loss /= len(train_dataset)\n",
    "    val_losses.append(val_loss)\n",
    "    \n",
    "    if (epoch + 1) % 5 == 0:\n",
    "        print(f'Época {epoch+1}/{NUM_EPOCHS}')\n",
    "        print(f'  Pérdida Entrenamiento: {train_loss:.4f}')\n",
    "        print(f'  Pérdida Validación: {val_loss:.4f}')\n",
    "        print(f'  {\"Mejorando\" if val_loss < min(val_losses[:-1] + [float(\"inf\")]) else \"Empeorando\"}')\n",
    "\n",
    "print(\"Entrenamiento completado!\")"
   ]
  },
  {
   "cell_type": "code",
   "execution_count": 10,
   "id": "db4d6df4",
   "metadata": {},
   "outputs": [
    {
     "data": {
      "image/png": "[encoded data removed]",
      "text/plain": [
       "<Figure size 640x480 with 1 Axes>"
      ]
     },
     "metadata": {},
     "output_type": "display_data"
    }
   ],
   "source": [
    "plt.plot(train_losses, label='Train Loss')\n",
    "plt.plot(val_losses, label='Validation Loss')\n",
    "plt.xlabel('Epoch')\n",
    "plt.ylabel('Loss')\n",
    "plt.title('Train and Validation Losses')\n",
    "plt.legend()\n",
    "plt.grid(True)\n",
    "plt.show()"
   ]
  },
  {
   "cell_type": "code",
   "execution_count": null,
   "id": "02e85646",
   "metadata": {},
   "outputs": [
    {
     "name": "stdout",
     "output_type": "stream",
     "text": [
      "Accuracy con los datos de validacion 0.2503\n"
     ]
    }
   ],
   "source": [
    "# accuracy\n",
    "\n",
    "model.eval()\n",
    "accur = 0\n",
    "with torch.no_grad():\n",
    "    for item in test_dataset:\n",
    "        input = item['input']\n",
    "        target = item['target']\n",
    "\n",
    "        output = model.forward(input)\n",
    "        pred = F.one_hot(torch.argmax(output), 10)\n",
    "\n",
    "        accur += int(sum(target == pred) == 10)\n",
    "\n",
    "accur /= len(train_dataset)\n",
    "print(f'Accuracy con los datos de validacion {accur:.4f}')"
   ]
  }
 ],
 "metadata": {
  "kernelspec": {
   "display_name": "Python 3",
   "language": "python",
   "name": "python3"
  },
  "language_info": {
   "codemirror_mode": {
    "name": "ipython",
    "version": 3
   },
   "file_extension": ".py",
   "mimetype": "text/x-python",
   "name": "python",
   "nbconvert_exporter": "python",
   "pygments_lexer": "ipython3",
   "version": "3.12.2"
  }
 },
 "nbformat": 4,
 "nbformat_minor": 5
}
